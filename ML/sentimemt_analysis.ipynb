{
 "cells": [
  {
   "attachments": {},
   "cell_type": "markdown",
   "metadata": {},
   "source": [
    "Natural Language Processing"
   ]
  },
  {
   "cell_type": "code",
   "execution_count": 38,
   "metadata": {},
   "outputs": [
    {
     "name": "stdout",
     "output_type": "stream",
     "text": [
      "As early as I could remember myself, my memories have been colored with melancholy and sad feelings. Yes, I admit it: I am a person who loves being sad. As a child, I loved gloomy fairy tales; as a teenager, I loved tragic novels and films, which made my parents worry a lot. I realized that I did not meet their expectations: in their ideal world, a happy person must irradiate joy all the time. In my view, this state of constant life enjoyment looked slightly idiotic. And I kept asking myself if sadness is really so bad.\n",
      "\n",
      "One of the points, which I have discovered, is that people very seldom differentiate between sadness and misery and mistake one feeling for the other, although they are very different in nature. Misery can only be caused by some deeply traumatic experience; however, sadness in a natural middle between being extremely happy and feeling deep sorrow.\n",
      "\n",
      "Another important issue is that sadness often accompanies the process of thinking, consideration, and evaluation. If, for example, you once watch the facial expression of a person who is writing something deep in thought, you will see that he/she looks sad.\n",
      "\n",
      "Furthermore, sadness is absolutely natural: almost all our important events in life are colored with it. We feel it when we have to leave a place where we felt good, we experience it when we are happy because deep down we all know it will not last forever, when parents see their children getting married, they are happy, but at the same time they are sad, because their kids have grown up.\n",
      "\n",
      "So, sadness is positive. Next time you wake up in the morning and realize you feel sad, do not get upset, it only means you are normal and experience the whole range of emotions.\n"
     ]
    }
   ],
   "source": [
    "text = open(r\"C:\\Users\\ANUBHAV UTKARSH\\OneDrive\\Desktop\\CODES\\file.txt\", encoding='utf-8').read() #Reading the text inside the text file\n",
    "print(text)"
   ]
  },
  {
   "cell_type": "code",
   "execution_count": 39,
   "metadata": {},
   "outputs": [
    {
     "name": "stdout",
     "output_type": "stream",
     "text": [
      "as early as i could remember myself, my memories have been colored with melancholy and sad feelings. yes, i admit it: i am a person who loves being sad. as a child, i loved gloomy fairy tales; as a teenager, i loved tragic novels and films, which made my parents worry a lot. i realized that i did not meet their expectations: in their ideal world, a happy person must irradiate joy all the time. in my view, this state of constant life enjoyment looked slightly idiotic. and i kept asking myself if sadness is really so bad.\n",
      "\n",
      "one of the points, which i have discovered, is that people very seldom differentiate between sadness and misery and mistake one feeling for the other, although they are very different in nature. misery can only be caused by some deeply traumatic experience; however, sadness in a natural middle between being extremely happy and feeling deep sorrow.\n",
      "\n",
      "another important issue is that sadness often accompanies the process of thinking, consideration, and evaluation. if, for example, you once watch the facial expression of a person who is writing something deep in thought, you will see that he/she looks sad.\n",
      "\n",
      "furthermore, sadness is absolutely natural: almost all our important events in life are colored with it. we feel it when we have to leave a place where we felt good, we experience it when we are happy because deep down we all know it will not last forever, when parents see their children getting married, they are happy, but at the same time they are sad, because their kids have grown up.\n",
      "\n",
      "so, sadness is positive. next time you wake up in the morning and realize you feel sad, do not get upset, it only means you are normal and experience the whole range of emotions.\n"
     ]
    }
   ],
   "source": [
    "import string\n",
    "lower_case = text.lower()\n",
    "print(lower_case)"
   ]
  },
  {
   "cell_type": "code",
   "execution_count": 40,
   "metadata": {},
   "outputs": [
    {
     "name": "stdout",
     "output_type": "stream",
     "text": [
      "as early as i could remember myself my memories have been colored with melancholy and sad feelings yes i admit it i am a person who loves being sad as a child i loved gloomy fairy tales as a teenager i loved tragic novels and films which made my parents worry a lot i realized that i did not meet their expectations in their ideal world a happy person must irradiate joy all the time in my view this state of constant life enjoyment looked slightly idiotic and i kept asking myself if sadness is really so bad\n",
      "\n",
      "one of the points which i have discovered is that people very seldom differentiate between sadness and misery and mistake one feeling for the other although they are very different in nature misery can only be caused by some deeply traumatic experience however sadness in a natural middle between being extremely happy and feeling deep sorrow\n",
      "\n",
      "another important issue is that sadness often accompanies the process of thinking consideration and evaluation if for example you once watch the facial expression of a person who is writing something deep in thought you will see that heshe looks sad\n",
      "\n",
      "furthermore sadness is absolutely natural almost all our important events in life are colored with it we feel it when we have to leave a place where we felt good we experience it when we are happy because deep down we all know it will not last forever when parents see their children getting married they are happy but at the same time they are sad because their kids have grown up\n",
      "\n",
      "so sadness is positive next time you wake up in the morning and realize you feel sad do not get upset it only means you are normal and experience the whole range of emotions\n"
     ]
    }
   ],
   "source": [
    "clean_txt = lower_case.translate(str.maketrans('','',string.punctuation)) #maketrans takes 3 args as str: 1. Specify the list of chars to be replaced\n",
    "                                                                                                        # 2. Specify the list of chars with which the chars need to be replaced\n",
    "                                                                                                        # 3. Sepcify the list of chars that need to be deleted\n",
    "print(clean_txt)"
   ]
  },
  {
   "attachments": {},
   "cell_type": "markdown",
   "metadata": {},
   "source": [
    "Tokenization and Stop Words"
   ]
  },
  {
   "cell_type": "code",
   "execution_count": 41,
   "metadata": {},
   "outputs": [
    {
     "name": "stdout",
     "output_type": "stream",
     "text": [
      "['as', 'early', 'as', 'i', 'could', 'remember', 'myself', 'my', 'memories', 'have', 'been', 'colored', 'with', 'melancholy', 'and', 'sad', 'feelings', 'yes', 'i', 'admit', 'it', 'i', 'am', 'a', 'person', 'who', 'loves', 'being', 'sad', 'as', 'a', 'child', 'i', 'loved', 'gloomy', 'fairy', 'tales', 'as', 'a', 'teenager', 'i', 'loved', 'tragic', 'novels', 'and', 'films', 'which', 'made', 'my', 'parents', 'worry', 'a', 'lot', 'i', 'realized', 'that', 'i', 'did', 'not', 'meet', 'their', 'expectations', 'in', 'their', 'ideal', 'world', 'a', 'happy', 'person', 'must', 'irradiate', 'joy', 'all', 'the', 'time', 'in', 'my', 'view', 'this', 'state', 'of', 'constant', 'life', 'enjoyment', 'looked', 'slightly', 'idiotic', 'and', 'i', 'kept', 'asking', 'myself', 'if', 'sadness', 'is', 'really', 'so', 'bad', 'one', 'of', 'the', 'points', 'which', 'i', 'have', 'discovered', 'is', 'that', 'people', 'very', 'seldom', 'differentiate', 'between', 'sadness', 'and', 'misery', 'and', 'mistake', 'one', 'feeling', 'for', 'the', 'other', 'although', 'they', 'are', 'very', 'different', 'in', 'nature', 'misery', 'can', 'only', 'be', 'caused', 'by', 'some', 'deeply', 'traumatic', 'experience', 'however', 'sadness', 'in', 'a', 'natural', 'middle', 'between', 'being', 'extremely', 'happy', 'and', 'feeling', 'deep', 'sorrow', 'another', 'important', 'issue', 'is', 'that', 'sadness', 'often', 'accompanies', 'the', 'process', 'of', 'thinking', 'consideration', 'and', 'evaluation', 'if', 'for', 'example', 'you', 'once', 'watch', 'the', 'facial', 'expression', 'of', 'a', 'person', 'who', 'is', 'writing', 'something', 'deep', 'in', 'thought', 'you', 'will', 'see', 'that', 'heshe', 'looks', 'sad', 'furthermore', 'sadness', 'is', 'absolutely', 'natural', 'almost', 'all', 'our', 'important', 'events', 'in', 'life', 'are', 'colored', 'with', 'it', 'we', 'feel', 'it', 'when', 'we', 'have', 'to', 'leave', 'a', 'place', 'where', 'we', 'felt', 'good', 'we', 'experience', 'it', 'when', 'we', 'are', 'happy', 'because', 'deep', 'down', 'we', 'all', 'know', 'it', 'will', 'not', 'last', 'forever', 'when', 'parents', 'see', 'their', 'children', 'getting', 'married', 'they', 'are', 'happy', 'but', 'at', 'the', 'same', 'time', 'they', 'are', 'sad', 'because', 'their', 'kids', 'have', 'grown', 'up', 'so', 'sadness', 'is', 'positive', 'next', 'time', 'you', 'wake', 'up', 'in', 'the', 'morning', 'and', 'realize', 'you', 'feel', 'sad', 'do', 'not', 'get', 'upset', 'it', 'only', 'means', 'you', 'are', 'normal', 'and', 'experience', 'the', 'whole', 'range', 'of', 'emotions']\n"
     ]
    }
   ],
   "source": [
    "tokanized_words = clean_txt.split()\n",
    "print(tokanized_words)"
   ]
  },
  {
   "cell_type": "code",
   "execution_count": 42,
   "metadata": {},
   "outputs": [],
   "source": [
    "stop_words = [\"i\", \"me\", \"my\", \"myself\", \"we\", \"our\", \"ours\", \"ourselves\", \"you\", \"your\", \"yours\", \"yourself\",\n",
    "              \"yourselves\", \"he\", \"him\", \"his\", \"himself\", \"she\", \"her\", \"hers\", \"herself\", \"it\", \"its\", \"itself\",\n",
    "              \"they\", \"them\", \"their\", \"theirs\", \"themselves\", \"what\", \"which\", \"who\", \"whom\", \"this\", \"that\", \"these\",\n",
    "              \"those\", \"am\", \"is\", \"are\", \"was\", \"were\", \"be\", \"been\", \"being\", \"have\", \"has\", \"had\", \"having\", \"do\",\n",
    "              \"does\", \"did\", \"doing\", \"a\", \"an\", \"the\", \"and\", \"but\", \"if\", \"or\", \"because\", \"as\", \"until\", \"while\",\n",
    "              \"of\", \"at\", \"by\", \"for\", \"with\", \"about\", \"against\", \"between\", \"into\", \"through\", \"during\", \"before\",\n",
    "              \"after\", \"above\", \"below\", \"to\", \"from\", \"up\", \"down\", \"in\", \"out\", \"on\", \"off\", \"over\", \"under\", \"again\",\n",
    "              \"further\", \"then\", \"once\", \"here\", \"there\", \"when\", \"where\", \"why\", \"how\", \"all\", \"any\", \"both\", \"each\",\n",
    "              \"few\", \"more\", \"most\", \"other\", \"some\", \"such\", \"no\", \"nor\", \"not\", \"only\", \"own\", \"same\", \"so\", \"than\",\n",
    "              \"too\", \"very\", \"s\", \"t\", \"can\", \"will\", \"just\", \"don\", \"should\", \"now\"]\n",
    "\n",
    "Final_words= []\n",
    "for word in tokanized_words:\n",
    "    if(word not in stop_words):\n",
    "        Final_words.append(word)"
   ]
  },
  {
   "cell_type": "code",
   "execution_count": 43,
   "metadata": {},
   "outputs": [
    {
     "data": {
      "text/plain": [
       "['early',\n",
       " 'could',\n",
       " 'remember',\n",
       " 'memories',\n",
       " 'colored',\n",
       " 'melancholy',\n",
       " 'sad',\n",
       " 'feelings',\n",
       " 'yes',\n",
       " 'admit',\n",
       " 'person',\n",
       " 'loves',\n",
       " 'sad',\n",
       " 'child',\n",
       " 'loved',\n",
       " 'gloomy',\n",
       " 'fairy',\n",
       " 'tales',\n",
       " 'teenager',\n",
       " 'loved',\n",
       " 'tragic',\n",
       " 'novels',\n",
       " 'films',\n",
       " 'made',\n",
       " 'parents',\n",
       " 'worry',\n",
       " 'lot',\n",
       " 'realized',\n",
       " 'meet',\n",
       " 'expectations',\n",
       " 'ideal',\n",
       " 'world',\n",
       " 'happy',\n",
       " 'person',\n",
       " 'must',\n",
       " 'irradiate',\n",
       " 'joy',\n",
       " 'time',\n",
       " 'view',\n",
       " 'state',\n",
       " 'constant',\n",
       " 'life',\n",
       " 'enjoyment',\n",
       " 'looked',\n",
       " 'slightly',\n",
       " 'idiotic',\n",
       " 'kept',\n",
       " 'asking',\n",
       " 'sadness',\n",
       " 'really',\n",
       " 'bad',\n",
       " 'one',\n",
       " 'points',\n",
       " 'discovered',\n",
       " 'people',\n",
       " 'seldom',\n",
       " 'differentiate',\n",
       " 'sadness',\n",
       " 'misery',\n",
       " 'mistake',\n",
       " 'one',\n",
       " 'feeling',\n",
       " 'although',\n",
       " 'different',\n",
       " 'nature',\n",
       " 'misery',\n",
       " 'caused',\n",
       " 'deeply',\n",
       " 'traumatic',\n",
       " 'experience',\n",
       " 'however',\n",
       " 'sadness',\n",
       " 'natural',\n",
       " 'middle',\n",
       " 'extremely',\n",
       " 'happy',\n",
       " 'feeling',\n",
       " 'deep',\n",
       " 'sorrow',\n",
       " 'another',\n",
       " 'important',\n",
       " 'issue',\n",
       " 'sadness',\n",
       " 'often',\n",
       " 'accompanies',\n",
       " 'process',\n",
       " 'thinking',\n",
       " 'consideration',\n",
       " 'evaluation',\n",
       " 'example',\n",
       " 'watch',\n",
       " 'facial',\n",
       " 'expression',\n",
       " 'person',\n",
       " 'writing',\n",
       " 'something',\n",
       " 'deep',\n",
       " 'thought',\n",
       " 'see',\n",
       " 'heshe',\n",
       " 'looks',\n",
       " 'sad',\n",
       " 'furthermore',\n",
       " 'sadness',\n",
       " 'absolutely',\n",
       " 'natural',\n",
       " 'almost',\n",
       " 'important',\n",
       " 'events',\n",
       " 'life',\n",
       " 'colored',\n",
       " 'feel',\n",
       " 'leave',\n",
       " 'place',\n",
       " 'felt',\n",
       " 'good',\n",
       " 'experience',\n",
       " 'happy',\n",
       " 'deep',\n",
       " 'know',\n",
       " 'last',\n",
       " 'forever',\n",
       " 'parents',\n",
       " 'see',\n",
       " 'children',\n",
       " 'getting',\n",
       " 'married',\n",
       " 'happy',\n",
       " 'time',\n",
       " 'sad',\n",
       " 'kids',\n",
       " 'grown',\n",
       " 'sadness',\n",
       " 'positive',\n",
       " 'next',\n",
       " 'time',\n",
       " 'wake',\n",
       " 'morning',\n",
       " 'realize',\n",
       " 'feel',\n",
       " 'sad',\n",
       " 'get',\n",
       " 'upset',\n",
       " 'means',\n",
       " 'normal',\n",
       " 'experience',\n",
       " 'whole',\n",
       " 'range',\n",
       " 'emotions']"
      ]
     },
     "execution_count": 43,
     "metadata": {},
     "output_type": "execute_result"
    }
   ],
   "source": [
    "Final_words"
   ]
  },
  {
   "attachments": {},
   "cell_type": "markdown",
   "metadata": {},
   "source": [
    "EMOTIONS (NLP Emotion Algorithm)"
   ]
  },
  {
   "cell_type": "code",
   "execution_count": 44,
   "metadata": {},
   "outputs": [
    {
     "name": "stdout",
     "output_type": "stream",
     "text": [
      "[' sad', ' happy', ' happy', ' attached', ' sad', ' sad', ' sad', ' fearful', ' loved']\n"
     ]
    }
   ],
   "source": [
    "#Chech if the word in the final list is also present in emotion.txt\n",
    "#If word id present -> Add the emotion to emotion_list\n",
    "#Finally count each emotion in the emotion list\n",
    "emotions_list = []\n",
    "with open(r\"C:\\Users\\ANUBHAV UTKARSH\\OneDrive\\Desktop\\CODES\\emotions.txt\") as files:\n",
    "    for line in files:\n",
    "        clear_line = line.replace(\"\\n\",\"\").replace(\",\",\"\").replace(\"'\",\"\").strip()\n",
    "        \n",
    "        word,emotion = clear_line.split(':')\n",
    "        \n",
    "        if word in Final_words:\n",
    "            emotions_list.append(emotion)\n",
    "print(emotions_list)\n",
    "        "
   ]
  },
  {
   "cell_type": "code",
   "execution_count": 45,
   "metadata": {},
   "outputs": [
    {
     "name": "stdout",
     "output_type": "stream",
     "text": [
      "Counter({' sad': 4, ' happy': 2, ' attached': 1, ' fearful': 1, ' loved': 1})\n"
     ]
    }
   ],
   "source": [
    "from collections import Counter\n",
    "w = Counter(emotions_list)\n",
    "print(w)"
   ]
  },
  {
   "attachments": {},
   "cell_type": "markdown",
   "metadata": {},
   "source": [
    "Plotting the emotions and identifying the dominating emotion"
   ]
  },
  {
   "cell_type": "code",
   "execution_count": 53,
   "metadata": {},
   "outputs": [
    {
     "data": {
      "image/png": "[encoded data removed]",
      "text/plain": [
       "<Figure size 640x480 with 1 Axes>"
      ]
     },
     "metadata": {},
     "output_type": "display_data"
    }
   ],
   "source": [
    "import matplotlib.pyplot as plt\n",
    "fig, ax1 = plt.subplots()\n",
    "ax1.bar(w.keys(),w.values())\n",
    "fig.autofmt_xdate()\n",
    "plt.savefig('emotions.png')\n",
    "plt.show()"
   ]
  },
  {
   "cell_type": "code",
   "execution_count": null,
   "metadata": {},
   "outputs": [],
   "source": []
  }
 ],
 "metadata": {
  "kernelspec": {
   "display_name": "Python 3",
   "language": "python",
   "name": "python3"
  },
  "language_info": {
   "codemirror_mode": {
    "name": "ipython",
    "version": 3
   },
   "file_extension": ".py",
   "mimetype": "text/x-python",
   "name": "python",
   "nbconvert_exporter": "python",
   "pygments_lexer": "ipython3",
   "version": "3.10.5"
  },
  "orig_nbformat": 4
 },
 "nbformat": 4,
 "nbformat_minor": 2
}
