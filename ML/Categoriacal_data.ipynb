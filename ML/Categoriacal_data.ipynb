{
 "cells": [
  {
   "attachments": {},
   "cell_type": "markdown",
   "metadata": {},
   "source": [
    "<font size=6>Preprocessing Categorical data"
   ]
  },
  {
   "cell_type": "code",
   "execution_count": 2,
   "metadata": {},
   "outputs": [],
   "source": [
    "import pandas as pd\n",
    "cars = pd.read_csv(r'data.csv')"
   ]
  },
  {
   "cell_type": "code",
   "execution_count": 3,
   "metadata": {},
   "outputs": [
    {
     "name": "stdout",
     "output_type": "stream",
     "text": [
      "           Car       Model  Volume  Weight  CO2\n",
      "0       Toyoty        Aygo     1.0     790   99\n",
      "1   Mitsubishi  Space Star     1.2    1160   95\n",
      "2        Skoda      Citigo     1.0     929   95\n",
      "3         Fiat         500     0.9     865   90\n",
      "4         Mini      Cooper     1.5    1140  105\n",
      "5           VW         Up!     1.0     929  105\n",
      "6        Skoda       Fabia     1.4    1109   90\n",
      "7     Mercedes     A-Class     1.5    1365   92\n",
      "8         Ford      Fiesta     1.5    1112   98\n",
      "9         Audi          A1     1.6    1150   99\n",
      "10     Hyundai         I20     1.1     980   99\n",
      "11      Suzuki       Swift     1.3     990  101\n",
      "12        Ford      Fiesta     1.0    1112   99\n",
      "13       Honda       Civic     1.6    1252   94\n",
      "14      Hundai         I30     1.6    1326   97\n",
      "15        Opel       Astra     1.6    1330   97\n",
      "16         BMW           1     1.6    1365   99\n",
      "17       Mazda           3     2.2    1280  104\n",
      "18       Skoda       Rapid     1.6    1119  104\n",
      "19        Ford       Focus     2.0    1328  105\n",
      "20        Ford      Mondeo     1.6    1584   94\n",
      "21        Opel    Insignia     2.0    1428   99\n",
      "22    Mercedes     C-Class     2.1    1365   99\n",
      "23       Skoda     Octavia     1.6    1415   99\n",
      "24       Volvo         S60     2.0    1415   99\n",
      "25    Mercedes         CLA     1.5    1465  102\n",
      "26        Audi          A4     2.0    1490  104\n",
      "27        Audi          A6     2.0    1725  114\n",
      "28       Volvo         V70     1.6    1523  109\n",
      "29         BMW           5     2.0    1705  114\n",
      "30    Mercedes     E-Class     2.1    1605  115\n",
      "31       Volvo        XC70     2.0    1746  117\n",
      "32        Ford       B-Max     1.6    1235  104\n",
      "33         BMW         216     1.6    1390  108\n",
      "34        Opel      Zafira     1.6    1405  109\n",
      "35    Mercedes         SLK     2.5    1395  120\n"
     ]
    }
   ],
   "source": [
    "print(cars.to_string())"
   ]
  },
  {
   "cell_type": "code",
   "execution_count": null,
   "metadata": {},
   "outputs": [],
   "source": []
  }
 ],
 "metadata": {
  "kernelspec": {
   "display_name": "Python 3",
   "language": "python",
   "name": "python3"
  },
  "language_info": {
   "codemirror_mode": {
    "name": "ipython",
    "version": 3
   },
   "file_extension": ".py",
   "mimetype": "text/x-python",
   "name": "python",
   "nbconvert_exporter": "python",
   "pygments_lexer": "ipython3",
   "version": "3.10.5"
  },
  "orig_nbformat": 4
 },
 "nbformat": 4,
 "nbformat_minor": 2
}
