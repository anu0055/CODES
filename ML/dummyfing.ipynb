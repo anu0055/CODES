{
 "cells": [
  {
   "attachments": {},
   "cell_type": "markdown",
   "metadata": {},
   "source": [
    "<font size=6>Dummifying"
   ]
  },
  {
   "cell_type": "code",
   "execution_count": 19,
   "metadata": {},
   "outputs": [
    {
     "name": "stdout",
     "output_type": "stream",
     "text": [
      "    color\n",
      "0     red\n",
      "1   green\n",
      "2    blue\n",
      "3    teel\n",
      "4  indigo\n"
     ]
    }
   ],
   "source": [
    "import pandas as pd\n",
    "df=pd.DataFrame({'color':['red','green','blue','teel','indigo']})\n",
    "print(df)"
   ]
  },
  {
   "cell_type": "code",
   "execution_count": 26,
   "metadata": {},
   "outputs": [
    {
     "name": "stdout",
     "output_type": "stream",
     "text": [
      "   green  indigo  red  teel  colors\n",
      "0      0       0    1     0     red\n",
      "1      1       0    0     0   green\n",
      "2      0       0    0     0    blue\n",
      "3      0       0    0     1    teel\n",
      "4      0       1    0     0  indigo\n"
     ]
    }
   ],
   "source": [
    "dummies= pd.get_dummies(df['color'], drop_first=True)\n",
    "dummies['colors']=df['color']\n",
    "print(dummies)"
   ]
  }
 ],
 "metadata": {
  "kernelspec": {
   "display_name": "Python 3",
   "language": "python",
   "name": "python3"
  },
  "language_info": {
   "codemirror_mode": {
    "name": "ipython",
    "version": 3
   },
   "file_extension": ".py",
   "mimetype": "text/x-python",
   "name": "python",
   "nbconvert_exporter": "python",
   "pygments_lexer": "ipython3",
   "version": "3.10.5"
  },
  "orig_nbformat": 4
 },
 "nbformat": 4,
 "nbformat_minor": 2
}
